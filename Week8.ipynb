{
  "nbformat": 4,
  "nbformat_minor": 0,
  "metadata": {
    "colab": {
      "name": "Week8.ipynb",
      "provenance": [],
      "collapsed_sections": [],
      "authorship_tag": "ABX9TyP3LqqL0lgv/0THtV2RfADv",
      "include_colab_link": true
    },
    "kernelspec": {
      "name": "python3",
      "display_name": "Python 3"
    },
    "language_info": {
      "name": "python"
    },
    "accelerator": "GPU"
  },
  "cells": [
    {
      "cell_type": "markdown",
      "metadata": {
        "id": "view-in-github",
        "colab_type": "text"
      },
      "source": [
        "<a href=\"https://colab.research.google.com/github/nargyanti/IPCV_Genap_2022/blob/main/Week8.ipynb\" target=\"_parent\"><img src=\"https://colab.research.google.com/assets/colab-badge.svg\" alt=\"Open In Colab\"/></a>"
      ]
    },
    {
      "cell_type": "code",
      "execution_count": 1,
      "metadata": {
        "colab": {
          "base_uri": "https://localhost:8080/"
        },
        "id": "DaoFnuQ4_Or4",
        "outputId": "4033f4ec-6fb1-4a1c-d5f6-41b8b26cfe3e"
      },
      "outputs": [
        {
          "output_type": "stream",
          "name": "stdout",
          "text": [
            "Mounted at /content/drive\n"
          ]
        }
      ],
      "source": [
        "from google.colab import drive\n",
        "drive.mount('/content/drive')"
      ]
    },
    {
      "cell_type": "code",
      "source": [
        "import cv2\n",
        "import numpy as np\n",
        "from matplotlib import pyplot as plt\n",
        "from google.colab.patches import cv2_imshow"
      ],
      "metadata": {
        "id": "oGwn_JmB_WNQ"
      },
      "execution_count": 2,
      "outputs": []
    },
    {
      "cell_type": "code",
      "source": [
        "def dilation(image, structure_element):      \n",
        "  filtered_image = np.copy(image)  \n",
        "\n",
        "  for x in range(image.shape[0]):\n",
        "    for y in range(image.shape[1]): \n",
        "      for i in range(structure_element.shape[0]):\n",
        "        for j in range(structure_element.shape[1]):\n",
        "          if (structure_element[i, j] == 1 and image[x, y] == 255).all():\n",
        "            new_x = x + i\n",
        "            new_y = y + j\n",
        "            filtered_image[new_x, new_y] = 255                      \n",
        "  return filtered_image"
      ],
      "metadata": {
        "id": "J72JLHM7_cZa"
      },
      "execution_count": 79,
      "outputs": []
    },
    {
      "cell_type": "code",
      "source": [
        "def erotion(image, structure_element):      \n",
        "  filtered_image = np.copy(image)\n",
        "  radius = structure_element.shape[0] // 2\n",
        "\n",
        "  for x in range(radius, image.shape[0]-radius):\n",
        "    for y in range(radius, image.shape[1]-radius):            \n",
        "      x_start = x - radius\n",
        "      x_end = x + radius + 1\n",
        "      y_start = y - radius\n",
        "      y_end = y + radius + 1\n",
        "      selection = np.copy(image[x_start:x_end, y_start:y_end])\n",
        "      for i in range(structure_element.shape[0]):\n",
        "        for j in range(structure_element.shape[1]):\n",
        "          if(255 in selection): # if contains 255 in selection image\n",
        "            if(structure_element[i,j] == 1 and selection[i,j] == 0).all(): # 0 if there are 1 matrix that contain 0\n",
        "              filtered_image[x, y] = 0          \n",
        "  return filtered_image"
      ],
      "metadata": {
        "id": "YtV99ZkCJyKe"
      },
      "execution_count": 80,
      "outputs": []
    },
    {
      "cell_type": "code",
      "source": [
        "def opening(image, structure_element):   \n",
        "  filtered_image = np.copy(image)   \n",
        "\n",
        "  filtered_image = erotion(image, structure_element)\n",
        "  filtered_image = dilation(filtered_image, structure_element)\n",
        "\n",
        "  return filtered_image"
      ],
      "metadata": {
        "id": "X9rsccPA7ozP"
      },
      "execution_count": 81,
      "outputs": []
    },
    {
      "cell_type": "code",
      "source": [
        "def closing(image, structure_element):   \n",
        "  filtered_image = np.copy(image)   \n",
        "\n",
        "  filtered_image = dilation(image, structure_element)\n",
        "  filtered_image = erotion(filtered_image, structure_element)\n",
        "\n",
        "  return filtered_image"
      ],
      "metadata": {
        "id": "b6FPSjZN79A3"
      },
      "execution_count": 82,
      "outputs": []
    },
    {
      "cell_type": "code",
      "source": [
        "# Dilation using OpenCV\n",
        "def dilation_opencv(image, structure_element):    \n",
        "  dilation_image = cv2.dilate(image, structure_element,iterations = 1)                          \n",
        "  return dilation_image"
      ],
      "metadata": {
        "id": "aUO6iwkELTLZ"
      },
      "execution_count": 83,
      "outputs": []
    },
    {
      "cell_type": "code",
      "source": [
        "# Erotion using OpenCV\n",
        "def erotion_opencv(image, structure_element):    \n",
        "  erotion_image = cv2.erode(image, structure_element, iterations = 1)                        \n",
        "  return erotion_image"
      ],
      "metadata": {
        "id": "Q9xRuxabLTwc"
      },
      "execution_count": 84,
      "outputs": []
    },
    {
      "cell_type": "code",
      "source": [
        "# Opening using OpenCV\n",
        "def opening_opencv(image, structure_element):\n",
        "  opening_image = cv2.morphologyEx(image, cv2.MORPH_OPEN, structure_element)\n",
        "  return opening_image"
      ],
      "metadata": {
        "id": "QcX6tqM0SDkR"
      },
      "execution_count": 85,
      "outputs": []
    },
    {
      "cell_type": "code",
      "source": [
        "# Closing using OpenCV\n",
        "def closing_opencv(image, structure_element):\n",
        "  closing_image = cv2.morphologyEx(image, cv2.MORPH_CLOSE, structure_element)\n",
        "  return closing_image"
      ],
      "metadata": {
        "id": "HsTLFQCwSDa7"
      },
      "execution_count": 86,
      "outputs": []
    },
    {
      "cell_type": "code",
      "source": [
        "# Import image\n",
        "image = cv2.imread('/content/drive/MyDrive/PCVK/j.png')"
      ],
      "metadata": {
        "id": "7lD799ClLYF0"
      },
      "execution_count": 87,
      "outputs": []
    },
    {
      "cell_type": "code",
      "source": [
        "# Structure element\n",
        "from skimage.io import imread, imshow\n",
        "square_se_3x3 = np.array([[1,1,1],\n",
        "                          [1,1,1],\n",
        "                          [1,1,1]], np.uint8)\n",
        "square_se_5x5 = np.array([[1,1,1,1,1],\n",
        "                          [1,1,1,1,1],\n",
        "                          [1,1,1,1,1],\n",
        "                          [1,1,1,1,1],\n",
        "                          [1,1,1,1,1]], np.uint8)\n",
        "square_se_7x7 = np.array([[1,1,1,1,1,1,1],\n",
        "                          [1,1,1,1,1,1,1],\n",
        "                          [1,1,1,1,1,1,1],\n",
        "                          [1,1,1,1,1,1,1],\n",
        "                          [1,1,1,1,1,1,1],\n",
        "                          [1,1,1,1,1,1,1],\n",
        "                          [1,1,1,1,1,1,1]], np.uint8)\n",
        "square_se_9x9 = np.array([[1,1,1,1,1,1,1,1,1],\n",
        "                          [1,1,1,1,1,1,1,1,1],\n",
        "                          [1,1,1,1,1,1,1,1,1],\n",
        "                          [1,1,1,1,1,1,1,1,1],\n",
        "                          [1,1,1,1,1,1,1,1,1],\n",
        "                          [1,1,1,1,1,1,1,1,1],\n",
        "                          [1,1,1,1,1,1,1,1,1],\n",
        "                          [1,1,1,1,1,1,1,1,1],\n",
        "                          [1,1,1,1,1,1,1,1,1]], np.uint8)\n",
        "cross_se_3x3 = np.array([[0,1,0],\n",
        "                         [1,1,1],\n",
        "                         [0,1,0]], np.uint8)\n",
        "cross_se_5x5 = np.array([[0,0,1,0,0],\n",
        "                         [0,0,1,0,0],\n",
        "                         [1,1,1,1,1],\n",
        "                         [0,0,1,0,0],\n",
        "                         [0,0,1,0,0]], np.uint8)\n",
        "circle_se_3x3 = np.array([[0,1,0],\n",
        "                          [1,1,1],\n",
        "                          [0,1,0]], np.uint8)\n",
        "circle_se_5x5 = np.array([[0,0,1,0,0],\n",
        "                          [0,1,1,1,0],\n",
        "                          [1,1,1,1,1],\n",
        "                          [0,1,1,1,0],\n",
        "                          [0,0,1,0,0]], np.uint8)\n",
        "rectangle_se_3x3 = np.array([[1,1,1],\n",
        "                             [1,1,1],\n",
        "                             [1,1,1]], np.uint8)\n",
        "rectangle_se_5x5 = np.array([[1,1,1,1,1],\n",
        "                             [1,1,1,1,1],\n",
        "                             [1,1,1,1,1],\n",
        "                             [1,1,1,1,1],\n",
        "                             [1,1,1,1,1]], np.uint8)\n",
        "vertical_line_se_3x3 = np.array([[0,1,0],\n",
        "                                 [0,1,0],\n",
        "                                 [0,1,0]], np.uint8)\n",
        "vertical_line_se_5x5 = np.array([[0,0,1,0,0],\n",
        "                                 [0,0,1,0,0],\n",
        "                                 [0,0,1,0,0],\n",
        "                                 [0,0,1,0,0],\n",
        "                                 [0,0,1,0,0]], np.uint8)"
      ],
      "metadata": {
        "id": "HH4VKmgiTB_6"
      },
      "execution_count": 88,
      "outputs": []
    },
    {
      "cell_type": "code",
      "source": [
        "# No 3 - Dilation 5x5 square without OpenCV\n",
        "dilation_image = dilation(image, square_se_5x5)\n",
        "\n",
        "final_frame = cv2.hconcat((image, dilation_image))\n",
        "cv2_imshow(final_frame)"
      ],
      "metadata": {
        "id": "FUTyepCDLg5_",
        "colab": {
          "base_uri": "https://localhost:8080/",
          "height": 167
        },
        "outputId": "8be918de-4548-4aa7-a7dd-c2225a00ef16"
      },
      "execution_count": 89,
      "outputs": [
        {
          "output_type": "display_data",
          "data": {
            "text/plain": [
              "<PIL.Image.Image image mode=RGB size=224x150 at 0x7FD8F77CFDD0>"
            ],
            "image/png": "[encoded data removed]"
          },
          "metadata": {}
        }
      ]
    },
    {
      "cell_type": "code",
      "source": [
        "# No 4 - Erotion 5x5 square without OpenCV\n",
        "erotion_image = erotion(image, square_se_5x5)\n",
        "\n",
        "final_frame = cv2.hconcat((image, erotion_image))\n",
        "cv2_imshow(final_frame)"
      ],
      "metadata": {
        "id": "_wpbulqOMxtr",
        "colab": {
          "base_uri": "https://localhost:8080/",
          "height": 167
        },
        "outputId": "015ea548-eda8-41db-c28f-6c0731d7d89f"
      },
      "execution_count": 90,
      "outputs": [
        {
          "output_type": "display_data",
          "data": {
            "text/plain": [
              "<PIL.Image.Image image mode=RGB size=224x150 at 0x7FD8F778D850>"
            ],
            "image/png": "[encoded data removed]"
          },
          "metadata": {}
        }
      ]
    },
    {
      "cell_type": "code",
      "source": [
        "# No 5 - Dilation 5x5 square with OpenCV\n",
        "dilation_image = dilation_opencv(image, square_se_3x3)\n",
        "\n",
        "final_frame = cv2.hconcat((image, dilation_image))\n",
        "cv2_imshow(final_frame)"
      ],
      "metadata": {
        "colab": {
          "base_uri": "https://localhost:8080/",
          "height": 167
        },
        "id": "lDKXC1_hM3AG",
        "outputId": "d2e7b278-62c9-40ae-b864-a6a7d950eec0"
      },
      "execution_count": 91,
      "outputs": [
        {
          "output_type": "display_data",
          "data": {
            "text/plain": [
              "<PIL.Image.Image image mode=RGB size=224x150 at 0x7FD8F778DD90>"
            ],
            "image/png": "[encoded data removed]"
          },
          "metadata": {}
        }
      ]
    },
    {
      "cell_type": "code",
      "source": [
        "# No 6 - Erotion 5x5 square with OpenCV\n",
        "erotion_image = erotion_opencv(image, square_se_5x5)\n",
        "\n",
        "final_frame = cv2.hconcat((image, erotion_image))\n",
        "cv2_imshow(final_frame)"
      ],
      "metadata": {
        "colab": {
          "base_uri": "https://localhost:8080/",
          "height": 167
        },
        "id": "9F2Dt6k-Ne3h",
        "outputId": "6be6ac23-3f50-4c22-c4b0-ef538521cd2f"
      },
      "execution_count": 92,
      "outputs": [
        {
          "output_type": "display_data",
          "data": {
            "text/plain": [
              "<PIL.Image.Image image mode=RGB size=224x150 at 0x7FD8F7815150>"
            ],
            "image/png": "[encoded data removed]"
          },
          "metadata": {}
        }
      ]
    },
    {
      "cell_type": "code",
      "source": [
        "# No 7 - Opening 7x7 square with and without OpenCV\n",
        "\n",
        "# With OpenCV\n",
        "opening_image_opencv = opening_opencv(image, square_se_7x7)\n",
        "\n",
        "# Without OpenCV\n",
        "opening_image = opening(image, square_se_7x7)\n",
        "\n",
        "final_frame = cv2.hconcat((image, opening_image_opencv, opening_image))\n",
        "cv2_imshow(final_frame)"
      ],
      "metadata": {
        "colab": {
          "base_uri": "https://localhost:8080/",
          "height": 167
        },
        "id": "ZMBV7pzXRhKA",
        "outputId": "9df4baed-aa42-474f-e757-30937bd85259"
      },
      "execution_count": 93,
      "outputs": [
        {
          "output_type": "display_data",
          "data": {
            "text/plain": [
              "<PIL.Image.Image image mode=RGB size=336x150 at 0x7FD8F77ADE50>"
            ],
            "image/png": "[encoded data removed]"
          },
          "metadata": {}
        }
      ]
    },
    {
      "cell_type": "code",
      "source": [
        "# No 8 - Closing 9x9 square with and without OpenCV\n",
        "\n",
        "# With OpenCV\n",
        "closing_image_opencv = closing_opencv(image, square_se_9x9)\n",
        "\n",
        "# Without OpenCV\n",
        "closing_image = closing_opencv(image, square_se_9x9)\n",
        "\n",
        "final_frame = cv2.hconcat((image, closing_image_opencv, closing_image))\n",
        "cv2_imshow(final_frame)"
      ],
      "metadata": {
        "colab": {
          "base_uri": "https://localhost:8080/",
          "height": 167
        },
        "id": "dHNZ6OqhSZGB",
        "outputId": "1f741447-5393-4a70-9320-d8c91627d70c"
      },
      "execution_count": 94,
      "outputs": [
        {
          "output_type": "display_data",
          "data": {
            "text/plain": [
              "<PIL.Image.Image image mode=RGB size=336x150 at 0x7FD8F78D7890>"
            ],
            "image/png": "[encoded data removed]"
          },
          "metadata": {}
        }
      ]
    },
    {
      "cell_type": "code",
      "source": [
        "# No 9.1 - Dilation 3x3 cross with OpenCV\n",
        "dilation_image_opencv = dilation_opencv(image, cross_se_3x3)\n",
        "\n",
        "final_frame = cv2.hconcat((image, dilation_image_opencv))\n",
        "cv2_imshow(final_frame)"
      ],
      "metadata": {
        "colab": {
          "base_uri": "https://localhost:8080/",
          "height": 167
        },
        "id": "o7Ix0zu2TI4c",
        "outputId": "d3a1e308-eb0e-4ffe-a542-fcc35fa40b98"
      },
      "execution_count": 95,
      "outputs": [
        {
          "output_type": "display_data",
          "data": {
            "text/plain": [
              "<PIL.Image.Image image mode=RGB size=224x150 at 0x7FD8F77DD650>"
            ],
            "image/png": "[encoded data removed]"
          },
          "metadata": {}
        }
      ]
    },
    {
      "cell_type": "code",
      "source": [
        "# No 9.2 - Dilation 5x5 cross with OpenCV\n",
        "dilation_image_opencv = dilation_opencv(image, cross_se_5x5)\n",
        "\n",
        "final_frame = cv2.hconcat((image, dilation_image_opencv))\n",
        "cv2_imshow(final_frame)"
      ],
      "metadata": {
        "colab": {
          "base_uri": "https://localhost:8080/",
          "height": 167
        },
        "id": "4CgRpTDgWfGw",
        "outputId": "7fc82342-987e-4ef9-9abb-68360363e3b6"
      },
      "execution_count": 96,
      "outputs": [
        {
          "output_type": "display_data",
          "data": {
            "text/plain": [
              "<PIL.Image.Image image mode=RGB size=224x150 at 0x7FD8F780FC50>"
            ],
            "image/png": "[encoded data removed]"
          },
          "metadata": {}
        }
      ]
    },
    {
      "cell_type": "code",
      "source": [
        "# No 10.1 - Dilation 3x3 circular with OpenCV\n",
        "dilation_image_opencv = dilation_opencv(image, circle_se_3x3)\n",
        "\n",
        "final_frame = cv2.hconcat((image, dilation_image_opencv))\n",
        "cv2_imshow(final_frame)"
      ],
      "metadata": {
        "colab": {
          "base_uri": "https://localhost:8080/",
          "height": 167
        },
        "id": "o-IKiupTWjBR",
        "outputId": "2f80fa70-0681-4f37-fe9b-73964503b150"
      },
      "execution_count": 97,
      "outputs": [
        {
          "output_type": "display_data",
          "data": {
            "text/plain": [
              "<PIL.Image.Image image mode=RGB size=224x150 at 0x7FD8F789EA10>"
            ],
            "image/png": "[encoded data removed]"
          },
          "metadata": {}
        }
      ]
    },
    {
      "cell_type": "code",
      "source": [
        "# No 10.2 - Dilation 5x5 circular with OpenCV\n",
        "dilation_image_opencv = dilation_opencv(image, circle_se_5x5)\n",
        "\n",
        "final_frame = cv2.hconcat((image, dilation_image_opencv))\n",
        "cv2_imshow(final_frame)"
      ],
      "metadata": {
        "colab": {
          "base_uri": "https://localhost:8080/",
          "height": 167
        },
        "id": "yetMIcZ4ZjQG",
        "outputId": "4e776da4-bb50-4037-bf4d-aa10159cedf8"
      },
      "execution_count": 98,
      "outputs": [
        {
          "output_type": "display_data",
          "data": {
            "text/plain": [
              "<PIL.Image.Image image mode=RGB size=224x150 at 0x7FD8F7815610>"
            ],
            "image/png": "[encoded data removed]"
          },
          "metadata": {}
        }
      ]
    },
    {
      "cell_type": "code",
      "source": [
        "# No 10.2 - Dilation 5x5 circular with OpenCV\n",
        "dilation_image_opencv = dilation_opencv(image, circle_se_5x5)\n",
        "\n",
        "final_frame = cv2.hconcat((image, dilation_image_opencv))\n",
        "cv2_imshow(final_frame)"
      ],
      "metadata": {
        "colab": {
          "base_uri": "https://localhost:8080/",
          "height": 167
        },
        "id": "Ib4K7GbuZmi1",
        "outputId": "4acae667-4dd2-48ea-cdf6-926df60c5561"
      },
      "execution_count": 99,
      "outputs": [
        {
          "output_type": "display_data",
          "data": {
            "text/plain": [
              "<PIL.Image.Image image mode=RGB size=224x150 at 0x7FD8F7815450>"
            ],
            "image/png": "[encoded data removed]"
          },
          "metadata": {}
        }
      ]
    },
    {
      "cell_type": "code",
      "source": [
        "# No 11.1 - Erotion 3x3 rectangle with OpenCV\n",
        "erotion_image_opencv = erotion_opencv(image, rectangle_se_3x3)\n",
        "\n",
        "final_frame = cv2.hconcat((image, erotion_image_opencv))\n",
        "cv2_imshow(final_frame)"
      ],
      "metadata": {
        "colab": {
          "base_uri": "https://localhost:8080/",
          "height": 167
        },
        "id": "hCliT14iZ_Ut",
        "outputId": "94807b5c-5a17-4391-b16b-b5322729f99a"
      },
      "execution_count": 100,
      "outputs": [
        {
          "output_type": "display_data",
          "data": {
            "text/plain": [
              "<PIL.Image.Image image mode=RGB size=224x150 at 0x7FD8F789EAD0>"
            ],
            "image/png": "[encoded data removed]"
          },
          "metadata": {}
        }
      ]
    },
    {
      "cell_type": "code",
      "source": [
        "# No 11.2 - Erotion 5x5 rectangle with OpenCV\n",
        "erotion_image_opencv = erotion_opencv(image, rectangle_se_5x5)\n",
        "\n",
        "final_frame = cv2.hconcat((image, erotion_image_opencv))\n",
        "cv2_imshow(final_frame)"
      ],
      "metadata": {
        "colab": {
          "base_uri": "https://localhost:8080/",
          "height": 167
        },
        "id": "0U5-dKi1aFel",
        "outputId": "47975315-2269-415f-8384-d27af85ac79a"
      },
      "execution_count": 101,
      "outputs": [
        {
          "output_type": "display_data",
          "data": {
            "text/plain": [
              "<PIL.Image.Image image mode=RGB size=224x150 at 0x7FD8F77DDED0>"
            ],
            "image/png": "[encoded data removed]"
          },
          "metadata": {}
        }
      ]
    },
    {
      "cell_type": "code",
      "source": [
        "# No 12.1 - Dilation 3x3 vertical line with OpenCV\n",
        "dilation_image_opencv = dilation_opencv(image, vertical_line_se_3x3)\n",
        "\n",
        "final_frame = cv2.hconcat((image, dilation_image_opencv))\n",
        "cv2_imshow(final_frame)"
      ],
      "metadata": {
        "colab": {
          "base_uri": "https://localhost:8080/",
          "height": 167
        },
        "id": "ZZnD8fyzaL8h",
        "outputId": "9213747b-912b-4604-84ef-ecd525421755"
      },
      "execution_count": 102,
      "outputs": [
        {
          "output_type": "display_data",
          "data": {
            "text/plain": [
              "<PIL.Image.Image image mode=RGB size=224x150 at 0x7FD8F780F3D0>"
            ],
            "image/png": "[encoded data removed]"
          },
          "metadata": {}
        }
      ]
    },
    {
      "cell_type": "code",
      "source": [
        "# No 12.2 - Dilation 5x5 vertical line with OpenCV\n",
        "dilation_image_opencv = dilation_opencv(image, vertical_line_se_5x5)\n",
        "\n",
        "final_frame = cv2.hconcat((image, dilation_image_opencv))\n",
        "cv2_imshow(final_frame)"
      ],
      "metadata": {
        "colab": {
          "base_uri": "https://localhost:8080/",
          "height": 167
        },
        "id": "ndpSK-tZaQQ5",
        "outputId": "a32a8bf8-6b0a-4f2a-b1ee-ac384016d930"
      },
      "execution_count": 103,
      "outputs": [
        {
          "output_type": "display_data",
          "data": {
            "text/plain": [
              "<PIL.Image.Image image mode=RGB size=224x150 at 0x7FD8F77AB7D0>"
            ],
            "image/png": "[encoded data removed]"
          },
          "metadata": {}
        }
      ]
    },
    {
      "cell_type": "code",
      "source": [
        ""
      ],
      "metadata": {
        "id": "LHIAm3GDa1ei"
      },
      "execution_count": null,
      "outputs": []
    }
  ]
}