{
  "nbformat": 4,
  "nbformat_minor": 0,
  "metadata": {
    "colab": {
      "name": "Week8.ipynb",
      "provenance": [],
      "collapsed_sections": [],
      "authorship_tag": "ABX9TyMrVSDEUqOK9iEVYNl3Mu//",
      "include_colab_link": true
    },
    "kernelspec": {
      "name": "python3",
      "display_name": "Python 3"
    },
    "language_info": {
      "name": "python"
    }
  },
  "cells": [
    {
      "cell_type": "markdown",
      "metadata": {
        "id": "view-in-github",
        "colab_type": "text"
      },
      "source": [
        "<a href=\"https://colab.research.google.com/github/nargyanti/IPCV_Genap_2022/blob/main/Week8.ipynb\" target=\"_parent\"><img src=\"https://colab.research.google.com/assets/colab-badge.svg\" alt=\"Open In Colab\"/></a>"
      ]
    },
    {
      "cell_type": "code",
      "execution_count": null,
      "metadata": {
        "colab": {
          "base_uri": "https://localhost:8080/"
        },
        "id": "DaoFnuQ4_Or4",
        "outputId": "c7dd4722-42de-4b4a-b9d5-6f856d1a6908"
      },
      "outputs": [
        {
          "output_type": "stream",
          "name": "stdout",
          "text": [
            "Mounted at /content/drive\n"
          ]
        }
      ],
      "source": [
        "from google.colab import drive\n",
        "drive.mount('/content/drive')"
      ]
    },
    {
      "cell_type": "code",
      "source": [
        "import cv2\n",
        "import numpy as np\n",
        "from matplotlib import pyplot as plt\n",
        "from google.colab.patches import cv2_imshow"
      ],
      "metadata": {
        "id": "oGwn_JmB_WNQ"
      },
      "execution_count": null,
      "outputs": []
    },
    {
      "cell_type": "code",
      "source": [
        "def dilation(image, structure_element):      \n",
        "  filtered_image = np.copy(image)    \n",
        "\n",
        "  for x in range(image.shape[0]):\n",
        "    for y in range(image.shape[1]): \n",
        "      for i in range(structure_element.shape[0]):\n",
        "        for j in range(structure_element.shape[0]):\n",
        "          if structure_element[i, j] == 1 and image[x,y] == 255:\n",
        "            filtered_image[x, y] = 255                      \n",
        "  return filtered_image"
      ],
      "metadata": {
        "id": "J72JLHM7_cZa"
      },
      "execution_count": 134,
      "outputs": []
    },
    {
      "cell_type": "code",
      "source": [
        "def erotion(image, structure_element):    \n",
        "  # Get output shape\n",
        "  filtered_image = np.zeros(image.shape, image.dtype)       \n",
        "  \n",
        "  # Convolutional\n",
        "  for x in range(image.shape[0] - structure_element.shape[0]):            \n",
        "      for y in range(image.shape[1] - structure_element.shape[1]):        \n",
        "          filtered_image[x, y] = np.sum(image[x:x+structure_element.shape[0], y:y+structure_element.shape[0]] * structure_element)                          \n",
        "\n",
        "  return filtered_image"
      ],
      "metadata": {
        "id": "YtV99ZkCJyKe"
      },
      "execution_count": null,
      "outputs": []
    },
    {
      "cell_type": "code",
      "source": [
        "# Dilation using OpenCV\n",
        "def dilation_opencv(image, structure_element):    \n",
        "  dilation_image = cv2.dilate(image, structure_element,iterations = 1)                          \n",
        "  return dilation_image"
      ],
      "metadata": {
        "id": "aUO6iwkELTLZ"
      },
      "execution_count": null,
      "outputs": []
    },
    {
      "cell_type": "code",
      "source": [
        "# Erotion using OpenCV\n",
        "def erotion_opencv(image, structure_element):    \n",
        "  erotion_image = cv2.erode(image, structure_element, iterations = 1)                        \n",
        "  return erotion_image"
      ],
      "metadata": {
        "id": "Q9xRuxabLTwc"
      },
      "execution_count": null,
      "outputs": []
    },
    {
      "cell_type": "code",
      "source": [
        "# Opening using OpenCV\n",
        "def opening_opencv(image, structure_element):\n",
        "  opening_image = cv2.morphologyEx(image, cv2.MORPH_OPEN, structure_element)\n",
        "  return opening_image"
      ],
      "metadata": {
        "id": "QcX6tqM0SDkR"
      },
      "execution_count": null,
      "outputs": []
    },
    {
      "cell_type": "code",
      "source": [
        "# Closing using OpenCV\n",
        "def closing_opencv(image, structure_element):\n",
        "  closing_image = cv2.morphologyEx(image, cv2.MORPH_CLOSE, structure_element)\n",
        "  return closing_image"
      ],
      "metadata": {
        "id": "HsTLFQCwSDa7"
      },
      "execution_count": null,
      "outputs": []
    },
    {
      "cell_type": "code",
      "source": [
        "# Import image\n",
        "image = cv2.imread('/content/drive/MyDrive/PCVK/j.png')"
      ],
      "metadata": {
        "id": "7lD799ClLYF0"
      },
      "execution_count": null,
      "outputs": []
    },
    {
      "cell_type": "code",
      "source": [
        "# Structure element\n",
        "from skimage.io import imread, imshow\n",
        "square_se_3x3 = np.array([[1,1,1],\n",
        "                          [1,1,1],\n",
        "                          [1,1,1]], np.uint8)\n",
        "square_se_5x5 = np.array([[1,1,1,1,1],\n",
        "                          [1,1,1,1,1],\n",
        "                          [1,1,1,1,1],\n",
        "                          [1,1,1,1,1],\n",
        "                          [1,1,1,1,1]], np.uint8)\n",
        "square_se_7x7 = np.array([[1,1,1,1,1,1,1],\n",
        "                          [1,1,1,1,1,1,1],\n",
        "                          [1,1,1,1,1,1,1],\n",
        "                          [1,1,1,1,1,1,1],\n",
        "                          [1,1,1,1,1,1,1],\n",
        "                          [1,1,1,1,1,1,1],\n",
        "                          [1,1,1,1,1,1,1]], np.uint8)\n",
        "square_se_9x9 = np.array([[1,1,1,1,1,1,1,1,1],\n",
        "                          [1,1,1,1,1,1,1,1,1],\n",
        "                          [1,1,1,1,1,1,1,1,1],\n",
        "                          [1,1,1,1,1,1,1,1,1],\n",
        "                          [1,1,1,1,1,1,1,1,1],\n",
        "                          [1,1,1,1,1,1,1,1,1],\n",
        "                          [1,1,1,1,1,1,1,1,1],\n",
        "                          [1,1,1,1,1,1,1,1,1],\n",
        "                          [1,1,1,1,1,1,1,1,1]], np.uint8)\n",
        "cross_se_3x3 = np.array([[0,1,0],\n",
        "                         [1,1,1],\n",
        "                         [0,1,0]], np.uint8)\n",
        "cross_se_5x5 = np.array([[0,0,1,0,0],\n",
        "                         [0,0,1,0,0],\n",
        "                         [1,1,1,1,1],\n",
        "                         [0,0,1,0,0],\n",
        "                         [0,0,1,0,0]], np.uint8)\n",
        "circle_se_3x3 = np.array([[0,1,0],\n",
        "                          [1,1,1],\n",
        "                          [0,1,0]], np.uint8)\n",
        "circle_se_5x5 = np.array([[0,0,1,0,0],\n",
        "                          [0,1,1,1,0],\n",
        "                          [1,1,1,1,1],\n",
        "                          [0,1,1,1,0],\n",
        "                          [0,0,1,0,0]], np.uint8)\n",
        "rectangle_se_3x3 = np.array([[1,1,1],\n",
        "                             [1,1,1],\n",
        "                             [1,1,1]], np.uint8)\n",
        "rectangle_se_5x5 = np.array([[1,1,1,1,1],\n",
        "                             [1,1,1,1,1],\n",
        "                             [1,1,1,1,1],\n",
        "                             [1,1,1,1,1],\n",
        "                             [1,1,1,1,1]], np.uint8)\n",
        "vertical_line_se_3x3 = np.array([[0,1,0],\n",
        "                                 [0,1,0],\n",
        "                                 [0,1,0]], np.uint8)\n",
        "vertical_line_se_5x5 = np.array([[0,0,1,0,0],\n",
        "                                 [0,0,1,0,0],\n",
        "                                 [0,0,1,0,0],\n",
        "                                 [0,0,1,0,0],\n",
        "                                 [0,0,1,0,0]], np.uint8)"
      ],
      "metadata": {
        "id": "HH4VKmgiTB_6"
      },
      "execution_count": null,
      "outputs": []
    },
    {
      "cell_type": "code",
      "source": [
        "# No 3 - Dilation 5x5 square without OpenCV\n",
        "# Sorry sir I'm still confuse about the calculation without OpenCV\n",
        "# dilation_image = dilation(image, square_se_5x5)\n",
        "\n",
        "# final_frame = cv2.hconcat((image, dilation_image))\n",
        "# cv2_imshow(final_frame)"
      ],
      "metadata": {
        "id": "FUTyepCDLg5_",
        "colab": {
          "base_uri": "https://localhost:8080/",
          "height": 370
        },
        "outputId": "d0997c58-c098-41d0-9b7b-989422e932e6"
      },
      "execution_count": 135,
      "outputs": [
        {
          "output_type": "error",
          "ename": "ValueError",
          "evalue": "ignored",
          "traceback": [
            "\u001b[0;31m---------------------------------------------------------------------------\u001b[0m",
            "\u001b[0;31mValueError\u001b[0m                                Traceback (most recent call last)",
            "\u001b[0;32m<ipython-input-135-3f7b48e03e83>\u001b[0m in \u001b[0;36m<module>\u001b[0;34m()\u001b[0m\n\u001b[1;32m      1\u001b[0m \u001b[0;31m# No 3 - Dilation 5x5 square without OpenCV\u001b[0m\u001b[0;34m\u001b[0m\u001b[0;34m\u001b[0m\u001b[0;34m\u001b[0m\u001b[0m\n\u001b[0;32m----> 2\u001b[0;31m \u001b[0mdilation_image\u001b[0m \u001b[0;34m=\u001b[0m \u001b[0mdilation\u001b[0m\u001b[0;34m(\u001b[0m\u001b[0mimage\u001b[0m\u001b[0;34m,\u001b[0m \u001b[0msquare_se_5x5\u001b[0m\u001b[0;34m)\u001b[0m\u001b[0;34m\u001b[0m\u001b[0;34m\u001b[0m\u001b[0m\n\u001b[0m\u001b[1;32m      3\u001b[0m \u001b[0;34m\u001b[0m\u001b[0m\n\u001b[1;32m      4\u001b[0m \u001b[0mfinal_frame\u001b[0m \u001b[0;34m=\u001b[0m \u001b[0mcv2\u001b[0m\u001b[0;34m.\u001b[0m\u001b[0mhconcat\u001b[0m\u001b[0;34m(\u001b[0m\u001b[0;34m(\u001b[0m\u001b[0mimage\u001b[0m\u001b[0;34m,\u001b[0m \u001b[0mdilation_image\u001b[0m\u001b[0;34m)\u001b[0m\u001b[0;34m)\u001b[0m\u001b[0;34m\u001b[0m\u001b[0;34m\u001b[0m\u001b[0m\n\u001b[1;32m      5\u001b[0m \u001b[0mcv2_imshow\u001b[0m\u001b[0;34m(\u001b[0m\u001b[0mfinal_frame\u001b[0m\u001b[0;34m)\u001b[0m\u001b[0;34m\u001b[0m\u001b[0;34m\u001b[0m\u001b[0m\n",
            "\u001b[0;32m<ipython-input-134-1d736fb34728>\u001b[0m in \u001b[0;36mdilation\u001b[0;34m(image, structure_element)\u001b[0m\n\u001b[1;32m      6\u001b[0m       \u001b[0;32mfor\u001b[0m \u001b[0mi\u001b[0m \u001b[0;32min\u001b[0m \u001b[0mrange\u001b[0m\u001b[0;34m(\u001b[0m\u001b[0mstructure_element\u001b[0m\u001b[0;34m.\u001b[0m\u001b[0mshape\u001b[0m\u001b[0;34m[\u001b[0m\u001b[0;36m0\u001b[0m\u001b[0;34m]\u001b[0m\u001b[0;34m)\u001b[0m\u001b[0;34m:\u001b[0m\u001b[0;34m\u001b[0m\u001b[0;34m\u001b[0m\u001b[0m\n\u001b[1;32m      7\u001b[0m         \u001b[0;32mfor\u001b[0m \u001b[0mj\u001b[0m \u001b[0;32min\u001b[0m \u001b[0mrange\u001b[0m\u001b[0;34m(\u001b[0m\u001b[0mstructure_element\u001b[0m\u001b[0;34m.\u001b[0m\u001b[0mshape\u001b[0m\u001b[0;34m[\u001b[0m\u001b[0;36m0\u001b[0m\u001b[0;34m]\u001b[0m\u001b[0;34m)\u001b[0m\u001b[0;34m:\u001b[0m\u001b[0;34m\u001b[0m\u001b[0;34m\u001b[0m\u001b[0m\n\u001b[0;32m----> 8\u001b[0;31m           \u001b[0;32mif\u001b[0m \u001b[0mstructure_element\u001b[0m\u001b[0;34m[\u001b[0m\u001b[0mi\u001b[0m\u001b[0;34m,\u001b[0m \u001b[0mj\u001b[0m\u001b[0;34m]\u001b[0m \u001b[0;34m==\u001b[0m \u001b[0;36m1\u001b[0m \u001b[0;32mand\u001b[0m \u001b[0mimage\u001b[0m\u001b[0;34m[\u001b[0m\u001b[0mx\u001b[0m\u001b[0;34m,\u001b[0m\u001b[0my\u001b[0m\u001b[0;34m]\u001b[0m \u001b[0;34m==\u001b[0m \u001b[0;36m255\u001b[0m\u001b[0;34m:\u001b[0m\u001b[0;34m\u001b[0m\u001b[0;34m\u001b[0m\u001b[0m\n\u001b[0m\u001b[1;32m      9\u001b[0m             \u001b[0mfiltered_image\u001b[0m\u001b[0;34m[\u001b[0m\u001b[0mx\u001b[0m\u001b[0;34m,\u001b[0m \u001b[0my\u001b[0m\u001b[0;34m]\u001b[0m \u001b[0;34m=\u001b[0m \u001b[0;36m255\u001b[0m\u001b[0;34m\u001b[0m\u001b[0;34m\u001b[0m\u001b[0m\n\u001b[1;32m     10\u001b[0m   \u001b[0;32mreturn\u001b[0m \u001b[0mfiltered_image\u001b[0m\u001b[0;34m\u001b[0m\u001b[0;34m\u001b[0m\u001b[0m\n",
            "\u001b[0;31mValueError\u001b[0m: The truth value of an array with more than one element is ambiguous. Use a.any() or a.all()"
          ]
        }
      ]
    },
    {
      "cell_type": "code",
      "source": [
        "# No 4 - Erotion 5x5 square without OpenCV\n",
        "# Sorry sir I'm still confuse about the calculation without OpenCV\n",
        "# erotion_image = erotion(image, square_se_5x5)\n",
        "\n",
        "# final_frame = cv2.hconcat((image, erotion_image))\n",
        "# cv2_imshow(final_frame)"
      ],
      "metadata": {
        "id": "_wpbulqOMxtr",
        "colab": {
          "base_uri": "https://localhost:8080/",
          "height": 370
        },
        "outputId": "6ddbe87d-58fc-4507-b837-29ecff80bc3e"
      },
      "execution_count": 128,
      "outputs": [
        {
          "output_type": "error",
          "ename": "ValueError",
          "evalue": "ignored",
          "traceback": [
            "\u001b[0;31m---------------------------------------------------------------------------\u001b[0m",
            "\u001b[0;31mValueError\u001b[0m                                Traceback (most recent call last)",
            "\u001b[0;32m<ipython-input-128-92fab066766b>\u001b[0m in \u001b[0;36m<module>\u001b[0;34m()\u001b[0m\n\u001b[1;32m      1\u001b[0m \u001b[0;31m# No 4 - Erotion 5x5 square without OpenCV\u001b[0m\u001b[0;34m\u001b[0m\u001b[0;34m\u001b[0m\u001b[0;34m\u001b[0m\u001b[0m\n\u001b[0;32m----> 2\u001b[0;31m \u001b[0mdilation_image\u001b[0m \u001b[0;34m=\u001b[0m \u001b[0mdilation\u001b[0m\u001b[0;34m(\u001b[0m\u001b[0mimage\u001b[0m\u001b[0;34m,\u001b[0m \u001b[0msquare_se_3x3\u001b[0m\u001b[0;34m)\u001b[0m\u001b[0;34m\u001b[0m\u001b[0;34m\u001b[0m\u001b[0m\n\u001b[0m\u001b[1;32m      3\u001b[0m \u001b[0;34m\u001b[0m\u001b[0m\n\u001b[1;32m      4\u001b[0m \u001b[0mfinal_frame\u001b[0m \u001b[0;34m=\u001b[0m \u001b[0mcv2\u001b[0m\u001b[0;34m.\u001b[0m\u001b[0mhconcat\u001b[0m\u001b[0;34m(\u001b[0m\u001b[0;34m(\u001b[0m\u001b[0mimage\u001b[0m\u001b[0;34m,\u001b[0m \u001b[0mdilation_image\u001b[0m\u001b[0;34m)\u001b[0m\u001b[0;34m)\u001b[0m\u001b[0;34m\u001b[0m\u001b[0;34m\u001b[0m\u001b[0m\n\u001b[1;32m      5\u001b[0m \u001b[0mcv2_imshow\u001b[0m\u001b[0;34m(\u001b[0m\u001b[0mfinal_frame\u001b[0m\u001b[0;34m)\u001b[0m\u001b[0;34m\u001b[0m\u001b[0;34m\u001b[0m\u001b[0m\n",
            "\u001b[0;32m<ipython-input-127-a9eed492f842>\u001b[0m in \u001b[0;36mdilation\u001b[0;34m(image, structure_element)\u001b[0m\n\u001b[1;32m      5\u001b[0m   \u001b[0;32mfor\u001b[0m \u001b[0mx\u001b[0m \u001b[0;32min\u001b[0m \u001b[0mrange\u001b[0m\u001b[0;34m(\u001b[0m\u001b[0mimage\u001b[0m\u001b[0;34m.\u001b[0m\u001b[0mshape\u001b[0m\u001b[0;34m[\u001b[0m\u001b[0;36m0\u001b[0m\u001b[0;34m]\u001b[0m\u001b[0;34m)\u001b[0m\u001b[0;34m:\u001b[0m\u001b[0;34m\u001b[0m\u001b[0;34m\u001b[0m\u001b[0m\n\u001b[1;32m      6\u001b[0m       \u001b[0;32mfor\u001b[0m \u001b[0my\u001b[0m \u001b[0;32min\u001b[0m \u001b[0mrange\u001b[0m\u001b[0;34m(\u001b[0m\u001b[0mimage\u001b[0m\u001b[0;34m.\u001b[0m\u001b[0mshape\u001b[0m\u001b[0;34m[\u001b[0m\u001b[0;36m1\u001b[0m\u001b[0;34m]\u001b[0m\u001b[0;34m)\u001b[0m\u001b[0;34m:\u001b[0m\u001b[0;34m\u001b[0m\u001b[0;34m\u001b[0m\u001b[0m\n\u001b[0;32m----> 7\u001b[0;31m           \u001b[0mfiltered_image\u001b[0m\u001b[0;34m[\u001b[0m\u001b[0mx\u001b[0m\u001b[0;34m,\u001b[0m \u001b[0my\u001b[0m\u001b[0;34m]\u001b[0m \u001b[0;34m=\u001b[0m \u001b[0mfiltered_image\u001b[0m\u001b[0;34m[\u001b[0m\u001b[0mx\u001b[0m\u001b[0;34m,\u001b[0m \u001b[0my\u001b[0m\u001b[0;34m]\u001b[0m \u001b[0;34m^\u001b[0m \u001b[0mstructure_element\u001b[0m\u001b[0;34m\u001b[0m\u001b[0;34m\u001b[0m\u001b[0m\n\u001b[0m\u001b[1;32m      8\u001b[0m \u001b[0;34m\u001b[0m\u001b[0m\n\u001b[1;32m      9\u001b[0m   \u001b[0;32mreturn\u001b[0m \u001b[0mfiltered_image\u001b[0m\u001b[0;34m\u001b[0m\u001b[0;34m\u001b[0m\u001b[0m\n",
            "\u001b[0;31mValueError\u001b[0m: could not broadcast input array from shape (3,3) into shape (3,)"
          ]
        }
      ]
    },
    {
      "cell_type": "code",
      "source": [
        "# No 5 - Dilation 5x5 square with OpenCV\n",
        "dilation_image = dilation_opencv(image, square_se_3x3)\n",
        "\n",
        "final_frame = cv2.hconcat((image, dilation_image))\n",
        "cv2_imshow(final_frame)"
      ],
      "metadata": {
        "colab": {
          "base_uri": "https://localhost:8080/",
          "height": 167
        },
        "id": "lDKXC1_hM3AG",
        "outputId": "6119c74e-f35d-44da-983b-b4960508dd85"
      },
      "execution_count": null,
      "outputs": [
        {
          "output_type": "display_data",
          "data": {
            "text/plain": [
              "<PIL.Image.Image image mode=RGB size=224x150 at 0x7FB08DA57D90>"
            ],
            "image/png": "[encoded data removed]"
          },
          "metadata": {}
        }
      ]
    },
    {
      "cell_type": "code",
      "source": [
        "# No 6 - Erotion 5x5 square with OpenCV\n",
        "erotion_image = erotion_opencv(image, square_se_5x5)\n",
        "\n",
        "final_frame = cv2.hconcat((image, erotion_image))\n",
        "cv2_imshow(final_frame)"
      ],
      "metadata": {
        "colab": {
          "base_uri": "https://localhost:8080/",
          "height": 167
        },
        "id": "9F2Dt6k-Ne3h",
        "outputId": "71fa6b3d-7e73-4591-f7a3-61539d34e607"
      },
      "execution_count": null,
      "outputs": [
        {
          "output_type": "display_data",
          "data": {
            "text/plain": [
              "<PIL.Image.Image image mode=RGB size=224x150 at 0x7FB08D99BE50>"
            ],
            "image/png": "[encoded data removed]"
          },
          "metadata": {}
        }
      ]
    },
    {
      "cell_type": "code",
      "source": [
        "# No 7 - Opening 7x7 square with and without OpenCV\n",
        "\n",
        "# With OpenCV\n",
        "opening_image_opencv = opening_opencv(image, square_se_7x7)\n",
        "\n",
        "# Without OpenCV\n",
        "# Sorry sir I'm still confuse about the calculation without OpenCV\n",
        "\n",
        "final_frame = cv2.hconcat((image, opening_image_opencv))\n",
        "cv2_imshow(final_frame)"
      ],
      "metadata": {
        "colab": {
          "base_uri": "https://localhost:8080/",
          "height": 167
        },
        "id": "ZMBV7pzXRhKA",
        "outputId": "60f51621-18a3-4963-8da3-b60d9ab0560f"
      },
      "execution_count": 136,
      "outputs": [
        {
          "output_type": "display_data",
          "data": {
            "text/plain": [
              "<PIL.Image.Image image mode=RGB size=224x150 at 0x7FB08D925810>"
            ],
            "image/png": "[encoded data removed]"
          },
          "metadata": {}
        }
      ]
    },
    {
      "cell_type": "code",
      "source": [
        "# No 8 - Closing 7x7 square with and without OpenCV\n",
        "\n",
        "# With OpenCV\n",
        "closing_image_opencv = closing_opencv(image, square_se_9x9)\n",
        "\n",
        "# Without OpenCV\n",
        "# Sorry sir I'm still confuse about the calculation without OpenCV\n",
        "\n",
        "final_frame = cv2.hconcat((image, closing_image_opencv))\n",
        "cv2_imshow(final_frame)"
      ],
      "metadata": {
        "colab": {
          "base_uri": "https://localhost:8080/",
          "height": 167
        },
        "id": "dHNZ6OqhSZGB",
        "outputId": "3adbd3b0-c28c-46b7-e2a7-f3be5b3ce5f3"
      },
      "execution_count": 137,
      "outputs": [
        {
          "output_type": "display_data",
          "data": {
            "text/plain": [
              "<PIL.Image.Image image mode=RGB size=224x150 at 0x7FB08D9C7790>"
            ],
            "image/png": "[encoded data removed]"
          },
          "metadata": {}
        }
      ]
    },
    {
      "cell_type": "code",
      "source": [
        "# No 9.1 - Dilation 3x3 cross with OpenCV\n",
        "dilation_image_opencv = dilation_opencv(image, cross_se_3x3)\n",
        "\n",
        "final_frame = cv2.hconcat((image, dilation_image_opencv))\n",
        "cv2_imshow(final_frame)"
      ],
      "metadata": {
        "colab": {
          "base_uri": "https://localhost:8080/",
          "height": 167
        },
        "id": "o7Ix0zu2TI4c",
        "outputId": "663f3503-14e9-44d2-8dff-477b9558cc2b"
      },
      "execution_count": null,
      "outputs": [
        {
          "output_type": "display_data",
          "data": {
            "text/plain": [
              "<PIL.Image.Image image mode=RGB size=224x150 at 0x7FB08D958C90>"
            ],
            "image/png": "[encoded data removed]"
          },
          "metadata": {}
        }
      ]
    },
    {
      "cell_type": "code",
      "source": [
        "# No 9.2 - Dilation 5x5 cross with OpenCV\n",
        "dilation_image_opencv = dilation_opencv(image, cross_se_5x5)\n",
        "\n",
        "final_frame = cv2.hconcat((image, dilation_image_opencv))\n",
        "cv2_imshow(final_frame)"
      ],
      "metadata": {
        "colab": {
          "base_uri": "https://localhost:8080/",
          "height": 167
        },
        "id": "4CgRpTDgWfGw",
        "outputId": "d7e9cfec-7fa4-47e5-d590-fd7fb5315c37"
      },
      "execution_count": null,
      "outputs": [
        {
          "output_type": "display_data",
          "data": {
            "text/plain": [
              "<PIL.Image.Image image mode=RGB size=224x150 at 0x7FB08DA38650>"
            ],
            "image/png": "[encoded data removed]"
          },
          "metadata": {}
        }
      ]
    },
    {
      "cell_type": "code",
      "source": [
        "# No 10.1 - Dilation 3x3 circular with OpenCV\n",
        "dilation_image_opencv = dilation_opencv(image, circle_se_3x3)\n",
        "\n",
        "final_frame = cv2.hconcat((image, dilation_image_opencv))\n",
        "cv2_imshow(final_frame)"
      ],
      "metadata": {
        "colab": {
          "base_uri": "https://localhost:8080/",
          "height": 167
        },
        "id": "o-IKiupTWjBR",
        "outputId": "8d6f5b16-95a6-4a86-ae63-1cde7d69c93a"
      },
      "execution_count": null,
      "outputs": [
        {
          "output_type": "display_data",
          "data": {
            "text/plain": [
              "<PIL.Image.Image image mode=RGB size=224x150 at 0x7FB08DA78190>"
            ],
            "image/png": "[encoded data removed]"
          },
          "metadata": {}
        }
      ]
    },
    {
      "cell_type": "code",
      "source": [
        "# No 10.2 - Dilation 5x5 circular with OpenCV\n",
        "dilation_image_opencv = dilation_opencv(image, circle_se_5x5)\n",
        "\n",
        "final_frame = cv2.hconcat((image, dilation_image_opencv))\n",
        "cv2_imshow(final_frame)"
      ],
      "metadata": {
        "colab": {
          "base_uri": "https://localhost:8080/",
          "height": 167
        },
        "id": "yetMIcZ4ZjQG",
        "outputId": "0fd79897-c2e5-4181-f7f8-b1acec0f6762"
      },
      "execution_count": null,
      "outputs": [
        {
          "output_type": "display_data",
          "data": {
            "text/plain": [
              "<PIL.Image.Image image mode=RGB size=224x150 at 0x7FB08D96C550>"
            ],
            "image/png": "[encoded data removed]"
          },
          "metadata": {}
        }
      ]
    },
    {
      "cell_type": "code",
      "source": [
        "# No 10.2 - Dilation 5x5 circular with OpenCV\n",
        "dilation_image_opencv = dilation_opencv(image, circle_se_5x5)\n",
        "\n",
        "final_frame = cv2.hconcat((image, dilation_image_opencv))\n",
        "cv2_imshow(final_frame)"
      ],
      "metadata": {
        "colab": {
          "base_uri": "https://localhost:8080/",
          "height": 167
        },
        "id": "Ib4K7GbuZmi1",
        "outputId": "bfbbe143-2637-4d4b-94ff-db632c1412fc"
      },
      "execution_count": null,
      "outputs": [
        {
          "output_type": "display_data",
          "data": {
            "text/plain": [
              "<PIL.Image.Image image mode=RGB size=224x150 at 0x7FB08D94CED0>"
            ],
            "image/png": "[encoded data removed]"
          },
          "metadata": {}
        }
      ]
    },
    {
      "cell_type": "code",
      "source": [
        "# No 11.1 - Erotion 3x3 rectangle with OpenCV\n",
        "erotion_image_opencv = erotion_opencv(image, rectangle_se_3x3)\n",
        "\n",
        "final_frame = cv2.hconcat((image, erotion_image_opencv))\n",
        "cv2_imshow(final_frame)"
      ],
      "metadata": {
        "colab": {
          "base_uri": "https://localhost:8080/",
          "height": 167
        },
        "id": "hCliT14iZ_Ut",
        "outputId": "ffd59906-250e-4db5-aa0a-16ce7a0bd5c8"
      },
      "execution_count": null,
      "outputs": [
        {
          "output_type": "display_data",
          "data": {
            "text/plain": [
              "<PIL.Image.Image image mode=RGB size=224x150 at 0x7FB08D94C1D0>"
            ],
            "image/png": "[encoded data removed]"
          },
          "metadata": {}
        }
      ]
    },
    {
      "cell_type": "code",
      "source": [
        "# No 11.2 - Erotion 5x5 rectangle with OpenCV\n",
        "erotion_image_opencv = erotion_opencv(image, rectangle_se_5x5)\n",
        "\n",
        "final_frame = cv2.hconcat((image, erotion_image_opencv))\n",
        "cv2_imshow(final_frame)"
      ],
      "metadata": {
        "colab": {
          "base_uri": "https://localhost:8080/",
          "height": 167
        },
        "id": "0U5-dKi1aFel",
        "outputId": "887a83e6-1d6b-4861-876f-0f5e41677a9d"
      },
      "execution_count": null,
      "outputs": [
        {
          "output_type": "display_data",
          "data": {
            "text/plain": [
              "<PIL.Image.Image image mode=RGB size=224x150 at 0x7FB08DA6DB10>"
            ],
            "image/png": "[encoded data removed]"
          },
          "metadata": {}
        }
      ]
    },
    {
      "cell_type": "code",
      "source": [
        "# No 12.1 - Dilation 3x3 vertical line with OpenCV\n",
        "dilation_image_opencv = dilation_opencv(image, vertical_line_se_3x3)\n",
        "\n",
        "final_frame = cv2.hconcat((image, dilation_image_opencv))\n",
        "cv2_imshow(final_frame)"
      ],
      "metadata": {
        "colab": {
          "base_uri": "https://localhost:8080/",
          "height": 167
        },
        "id": "ZZnD8fyzaL8h",
        "outputId": "7cb1ac10-1406-4ed0-c738-b473196ba218"
      },
      "execution_count": null,
      "outputs": [
        {
          "output_type": "display_data",
          "data": {
            "text/plain": [
              "<PIL.Image.Image image mode=RGB size=224x150 at 0x7FB08DA57890>"
            ],
            "image/png": "[encoded data removed]"
          },
          "metadata": {}
        }
      ]
    },
    {
      "cell_type": "code",
      "source": [
        "# No 12.2 - Dilation 5x5 vertical line with OpenCV\n",
        "dilation_image_opencv = dilation_opencv(image, vertical_line_se_5x5)\n",
        "\n",
        "final_frame = cv2.hconcat((image, dilation_image_opencv))\n",
        "cv2_imshow(final_frame)"
      ],
      "metadata": {
        "colab": {
          "base_uri": "https://localhost:8080/",
          "height": 167
        },
        "id": "ndpSK-tZaQQ5",
        "outputId": "0ecbd735-2165-433c-a8cd-8beb0769fee9"
      },
      "execution_count": null,
      "outputs": [
        {
          "output_type": "display_data",
          "data": {
            "text/plain": [
              "<PIL.Image.Image image mode=RGB size=224x150 at 0x7FB08D9BDDD0>"
            ],
            "image/png": "[encoded data removed]"
          },
          "metadata": {}
        }
      ]
    },
    {
      "cell_type": "code",
      "source": [
        ""
      ],
      "metadata": {
        "id": "LHIAm3GDa1ei"
      },
      "execution_count": null,
      "outputs": []
    }
  ]
}